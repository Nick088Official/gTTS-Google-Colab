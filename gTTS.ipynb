{
  "nbformat": 4,
  "nbformat_minor": 0,
  "metadata": {
    "colab": {
      "provenance": [],
      "include_colab_link": true
    },
    "kernelspec": {
      "name": "python3",
      "display_name": "Python 3"
    }
  },
  "cells": [
    {
      "cell_type": "markdown",
      "metadata": {
        "id": "view-in-github",
        "colab_type": "text"
      },
      "source": [
        "<a href=\"https://colab.research.google.com/github/Nick088Official/gTTS-Google-Colab/blob/main/gTTS.ipynb\" target=\"_parent\"><img src=\"https://colab.research.google.com/assets/colab-badge.svg\" alt=\"Open In Colab\"/></a>"
      ]
    },
    {
      "cell_type": "markdown",
      "source": [
        "# gTTS (Google Text-To-Speech) on Google Colab with the premade voices and being able to choose the gender (by changing the pitch)\n",
        "\n",
        "Made by [Nick088](https://linktr.ee/Nick088)"
      ],
      "metadata": {
        "id": "Xs8dp8uvhEWs"
      }
    },
    {
      "cell_type": "code",
      "metadata": {
        "id": "WymsRTE-7OpX",
        "cellView": "form"
      },
      "source": [
        "#@title Install gTTS\n",
        "!pip install gTTS\n",
        "!pip install pydub\n",
        "from gtts import gTTS\n",
        "from IPython.display import Audio"
      ],
      "execution_count": null,
      "outputs": []
    },
    {
      "cell_type": "code",
      "source": [
        "#@title Run gTTS\n",
        "import IPython.display as ipd\n",
        "import librosa\n",
        "from pydub import AudioSegment\n",
        "\n",
        "text = \"Hello, this is a test!\" #@param {type:\"string\"}\n",
        "language_accent = \"English_Nigerian\" #@param ['English_Australia', 'English (United Kingdom)', 'English_United_States', 'English_Canada', 'English_Nigerian', 'English_Ireland', 'English_South Africa', 'French_Canada', 'French_France', 'Mandarin_China_Mainland', 'Mandarin_Taiwan', 'Portuguese_Brazil', 'Portuguese_Portugal', 'Spanish_Mexico', 'Spanish_Spain', 'Spanish_United_States']\n",
        "#@markdown As Google TTS (Text-To-Speech) doesn't let you choose the gender of the voice, and the gender comes based on the language and accent you choose, you can try modifying the pitch, by choosing the number of semitones to shift the audio, to try to change it's gender (0 = no variations, negative pitch makes it more masculine, + pitch makes it more feminine)\n",
        "pitch = 0 #@param {type:\"integer\"}\n",
        "\n",
        "language_tld_map = {\n",
        "    \"English_Australia\": \"en,com.au\",\n",
        "    \"English_United_Kingdom\": \"en,co.uk\",\n",
        "    \"English_United_States\": \"en,com\",\n",
        "    \"English_Canada\": \"en,ca\",\n",
        "    \"English_Nigerian\": \"en,com.ng\",\n",
        "    \"English_Ireland\": \"en,ie\",\n",
        "    \"English_South Africa\": \"en,co.za\",\n",
        "    \"French_Canada\": \"fr,ca\",\n",
        "    \"French_France\": \"fr,fr\",\n",
        "    \"Mandarin_China_Mainland\": \"zh-CN,com\",\n",
        "    \"Mandarin_Taiwan\": \"zh-TW,com\",\n",
        "    \"Portuguese_Brazil\": \"pt,com.br\",\n",
        "    \"Portuguese_Portugal\": \"pt,pt\",\n",
        "    \"Spanish_Mexico\": \"es,com.mx\",\n",
        "    \"Spanish_Spain\": \"es,es\",\n",
        "    \"Spanish_United_States\": \"es,com\"\n",
        "}\n",
        "\n",
        "lang, tld = language_tld_map[language_accent].split(',')\n",
        "\n",
        "tts = gTTS(text, lang=lang, tld=tld)\n",
        "tts.save('gtts.wav')\n",
        "sound_file = 'gtts.wav'\n",
        "\n",
        "import librosa\n",
        "import soundfile as sf\n",
        "\n",
        "# Load the audio file\n",
        "y, sr = librosa.load(\"gtts.wav\")\n",
        "\n",
        "# Specify the number of semitones to shift\n",
        "new_y = librosa.effects.pitch_shift(y=y, sr=sr, n_steps=pitch)\n",
        "\n",
        "# Save the modified audio as a new file\n",
        "sf.write(\"pitchShifted.wav\", new_y, sr)\n",
        "\n",
        "\n",
        "\n",
        "Audio('pitchShifted.wav', autoplay=True)"
      ],
      "metadata": {
        "cellView": "form",
        "id": "aenqC0bITMM4"
      },
      "execution_count": null,
      "outputs": []
    }
  ]
}